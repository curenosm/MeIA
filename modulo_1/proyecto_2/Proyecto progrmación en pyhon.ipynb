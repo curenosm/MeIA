{
 "cells": [
  {
   "cell_type": "markdown",
   "id": "8f4a016c-9b84-414b-903a-9d98c5c2b803",
   "metadata": {},
   "source": [
    "[![Open In Colab](https://colab.research.google.com/assets/colab-badge.svg)](https://colab.research.google.com/github/ivanvladimir/Proyectos-MeIA/blob/main/Proyecto%20progrmaci%C3%B3n%20en%20pyhon.ipynb)\n",
    "[![Kaggle](https://kaggle.com/static/images/open-in-kaggle.svg)](https://kaggle.com/kernels/welcome?src=https://github.com/ivanvladimir/Proyectos-MeIA/blob/main/Proyecto%20progrmaci%C3%B3n%20en%20pyhon.ipynb)\n",
    "\n",
    "# Proyecto sección: Programación en Python\n",
    "\n",
    "Esta notebook especifica el proyecto para la sesión de \"Programación en python\" del grupo 3 de [Macroentrenamiento en Inteligencia Artificial](https://www.taller-tic.redmacro.unam.mx/)\n",
    "\n",
    "## Instrucciones\n",
    "\n",
    "1. Ejecutar toda la notebook para ver su funcionamiento\n",
    "2. Modificar las sección de Función del comportamiento para\n",
    "    1. El programa tiene que escoger un número entre 1 y 6 de forma aleatoria, ver la documentación del módulo random (https://docs.python.org/es/3.8/library/random.html)\n",
    "    2. En lugar del nombre, pedir al usuario que escoja otro número del 1 al 6\n",
    "    3. Si el número random y el número que introduce el usuario son iguales, imprimir un mensaje de felicitación\n",
    "    4. Si los noumeros no coinciden, invitar introducir un nuevo número\n",
    "    5. Púntos extras, si logran imprimir emojis\n",
    "    6. Punto extra si le recuerdan cuantos intentos lleva sin atinarle\n",
    "  \n",
    "Consideraciones: Al comparar los números tienen que asegurarse que sean el mismo tipo: cadena con cadena, número con número\n",
    "\n",
    "## Licencia de la notebook\n",
    "\n",
    "<a rel=\"license\" href=\"http://creativecommons.org/licenses/by/4.0/\"><img alt=\"Creative Commons License\" style=\"border-width:0\" src=\"https://i.creativecommons.org/l/by/4.0/80x15.png\" /></a>\n",
    "</br>This work is licensed under a <a rel=\"license\" href=\"http://creativecommons.org/licenses/by/4.0/\">Creative Commons Attribution 4.0 International License</a>.\n",
    "\n",
    "## General information\n",
    "\n",
    "> **Author(s)**: <a href=\"https://twitter.com/ivanvladimir\">@ivanvladimir</a></br>\n",
    "> **Last updated**: 12/06/2023"
   ]
  },
  {
   "cell_type": "markdown",
   "id": "d1848194-6f3b-4abc-bbe2-6b8d7e48f948",
   "metadata": {},
   "source": [
    "# 1 Instalar librerías"
   ]
  },
  {
   "cell_type": "code",
   "execution_count": 13,
   "id": "4f3c528c-3b8f-40b6-8257-993440a40fd3",
   "metadata": {},
   "outputs": [
    {
     "name": "stdout",
     "output_type": "stream",
     "text": [
      "Requirement already satisfied: gradio in c:\\programdata\\miniconda3\\envs\\enviro\\lib\\site-packages (3.34.0)Note: you may need to restart the kernel to use updated packages.\n",
      "\n",
      "Requirement already satisfied: aiofiles in c:\\programdata\\miniconda3\\envs\\enviro\\lib\\site-packages (from gradio) (23.1.0)\n",
      "Requirement already satisfied: aiohttp in c:\\programdata\\miniconda3\\envs\\enviro\\lib\\site-packages (from gradio) (3.8.4)\n",
      "Requirement already satisfied: altair>=4.2.0 in c:\\programdata\\miniconda3\\envs\\enviro\\lib\\site-packages (from gradio) (5.0.1)\n",
      "Requirement already satisfied: fastapi in c:\\programdata\\miniconda3\\envs\\enviro\\lib\\site-packages (from gradio) (0.97.0)\n",
      "Requirement already satisfied: ffmpy in c:\\programdata\\miniconda3\\envs\\enviro\\lib\\site-packages (from gradio) (0.3.0)\n",
      "Requirement already satisfied: gradio-client>=0.2.6 in c:\\programdata\\miniconda3\\envs\\enviro\\lib\\site-packages (from gradio) (0.2.6)\n",
      "Requirement already satisfied: httpx in c:\\programdata\\miniconda3\\envs\\enviro\\lib\\site-packages (from gradio) (0.24.1)\n",
      "Requirement already satisfied: huggingface-hub>=0.14.0 in c:\\programdata\\miniconda3\\envs\\enviro\\lib\\site-packages (from gradio) (0.15.1)\n",
      "Requirement already satisfied: jinja2 in c:\\programdata\\miniconda3\\envs\\enviro\\lib\\site-packages (from gradio) (3.0.1)\n",
      "Requirement already satisfied: markdown-it-py[linkify]>=2.0.0 in c:\\programdata\\miniconda3\\envs\\enviro\\lib\\site-packages (from gradio) (2.2.0)\n",
      "Requirement already satisfied: markupsafe in c:\\programdata\\miniconda3\\envs\\enviro\\lib\\site-packages (from gradio) (2.0.1)\n",
      "Requirement already satisfied: matplotlib in c:\\programdata\\miniconda3\\envs\\enviro\\lib\\site-packages (from gradio) (3.7.1)\n",
      "Requirement already satisfied: mdit-py-plugins<=0.3.3 in c:\\programdata\\miniconda3\\envs\\enviro\\lib\\site-packages (from gradio) (0.3.3)\n",
      "Requirement already satisfied: numpy in c:\\programdata\\miniconda3\\envs\\enviro\\lib\\site-packages (from gradio) (1.23.5)\n",
      "Requirement already satisfied: orjson in c:\\programdata\\miniconda3\\envs\\enviro\\lib\\site-packages (from gradio) (3.9.1)\n",
      "Requirement already satisfied: pandas in c:\\programdata\\miniconda3\\envs\\enviro\\lib\\site-packages (from gradio) (1.5.3)\n",
      "Requirement already satisfied: pillow in c:\\programdata\\miniconda3\\envs\\enviro\\lib\\site-packages (from gradio) (8.3.1)\n",
      "Requirement already satisfied: pydantic in c:\\programdata\\miniconda3\\envs\\enviro\\lib\\site-packages (from gradio) (1.10.9)\n",
      "Requirement already satisfied: pydub in c:\\programdata\\miniconda3\\envs\\enviro\\lib\\site-packages (from gradio) (0.25.1)\n",
      "Requirement already satisfied: pygments>=2.12.0 in c:\\programdata\\miniconda3\\envs\\enviro\\lib\\site-packages (from gradio) (2.14.0)\n",
      "Requirement already satisfied: python-multipart in c:\\programdata\\miniconda3\\envs\\enviro\\lib\\site-packages (from gradio) (0.0.6)\n",
      "Requirement already satisfied: pyyaml in c:\\programdata\\miniconda3\\envs\\enviro\\lib\\site-packages (from gradio) (6.0)\n",
      "Requirement already satisfied: requests in c:\\programdata\\miniconda3\\envs\\enviro\\lib\\site-packages (from gradio) (2.28.2)\n",
      "Requirement already satisfied: semantic-version in c:\\programdata\\miniconda3\\envs\\enviro\\lib\\site-packages (from gradio) (2.10.0)\n",
      "Requirement already satisfied: typing-extensions in c:\\programdata\\miniconda3\\envs\\enviro\\lib\\site-packages (from gradio) (4.5.0)\n",
      "Requirement already satisfied: uvicorn>=0.14.0 in c:\\programdata\\miniconda3\\envs\\enviro\\lib\\site-packages (from gradio) (0.22.0)\n",
      "Requirement already satisfied: websockets>=10.0 in c:\\programdata\\miniconda3\\envs\\enviro\\lib\\site-packages (from gradio) (10.4)\n",
      "Requirement already satisfied: jsonschema>=3.0 in c:\\programdata\\miniconda3\\envs\\enviro\\lib\\site-packages (from altair>=4.2.0->gradio) (4.17.3)\n",
      "Requirement already satisfied: toolz in c:\\programdata\\miniconda3\\envs\\enviro\\lib\\site-packages (from altair>=4.2.0->gradio) (0.12.0)\n",
      "Requirement already satisfied: fsspec in c:\\programdata\\miniconda3\\envs\\enviro\\lib\\site-packages (from gradio-client>=0.2.6->gradio) (2023.6.0)\n",
      "Requirement already satisfied: packaging in c:\\programdata\\miniconda3\\envs\\enviro\\lib\\site-packages (from gradio-client>=0.2.6->gradio) (23.0)\n",
      "Requirement already satisfied: filelock in c:\\programdata\\miniconda3\\envs\\enviro\\lib\\site-packages (from huggingface-hub>=0.14.0->gradio) (3.12.2)\n",
      "Requirement already satisfied: tqdm>=4.42.1 in c:\\programdata\\miniconda3\\envs\\enviro\\lib\\site-packages (from huggingface-hub>=0.14.0->gradio) (4.51.0)\n",
      "Requirement already satisfied: mdurl~=0.1 in c:\\programdata\\miniconda3\\envs\\enviro\\lib\\site-packages (from markdown-it-py[linkify]>=2.0.0->gradio) (0.1.2)\n",
      "Requirement already satisfied: linkify-it-py<3,>=1 in c:\\programdata\\miniconda3\\envs\\enviro\\lib\\site-packages (from markdown-it-py[linkify]>=2.0.0->gradio) (2.0.2)\n",
      "Requirement already satisfied: python-dateutil>=2.8.1 in c:\\programdata\\miniconda3\\envs\\enviro\\lib\\site-packages (from pandas->gradio) (2.8.2)\n",
      "Requirement already satisfied: pytz>=2020.1 in c:\\programdata\\miniconda3\\envs\\enviro\\lib\\site-packages (from pandas->gradio) (2022.7.1)\n",
      "Requirement already satisfied: click>=7.0 in c:\\programdata\\miniconda3\\envs\\enviro\\lib\\site-packages (from uvicorn>=0.14.0->gradio) (8.0.1)\n",
      "Requirement already satisfied: h11>=0.8 in c:\\programdata\\miniconda3\\envs\\enviro\\lib\\site-packages (from uvicorn>=0.14.0->gradio) (0.14.0)\n",
      "Requirement already satisfied: attrs>=17.3.0 in c:\\programdata\\miniconda3\\envs\\enviro\\lib\\site-packages (from aiohttp->gradio) (22.1.0)\n",
      "Requirement already satisfied: charset-normalizer<4.0,>=2.0 in c:\\programdata\\miniconda3\\envs\\enviro\\lib\\site-packages (from aiohttp->gradio) (3.1.0)\n",
      "Requirement already satisfied: multidict<7.0,>=4.5 in c:\\programdata\\miniconda3\\envs\\enviro\\lib\\site-packages (from aiohttp->gradio) (6.0.4)\n",
      "Requirement already satisfied: async-timeout<5.0,>=4.0.0a3 in c:\\programdata\\miniconda3\\envs\\enviro\\lib\\site-packages (from aiohttp->gradio) (4.0.2)\n",
      "Requirement already satisfied: yarl<2.0,>=1.0 in c:\\programdata\\miniconda3\\envs\\enviro\\lib\\site-packages (from aiohttp->gradio) (1.9.2)\n",
      "Requirement already satisfied: frozenlist>=1.1.1 in c:\\programdata\\miniconda3\\envs\\enviro\\lib\\site-packages (from aiohttp->gradio) (1.3.3)\n",
      "Requirement already satisfied: aiosignal>=1.1.2 in c:\\programdata\\miniconda3\\envs\\enviro\\lib\\site-packages (from aiohttp->gradio) (1.3.1)\n",
      "Requirement already satisfied: starlette<0.28.0,>=0.27.0 in c:\\programdata\\miniconda3\\envs\\enviro\\lib\\site-packages (from fastapi->gradio) (0.27.0)\n",
      "Requirement already satisfied: certifi in c:\\programdata\\miniconda3\\envs\\enviro\\lib\\site-packages (from httpx->gradio) (2023.5.7)\n",
      "Requirement already satisfied: httpcore<0.18.0,>=0.15.0 in c:\\programdata\\miniconda3\\envs\\enviro\\lib\\site-packages (from httpx->gradio) (0.17.2)\n",
      "Requirement already satisfied: idna in c:\\programdata\\miniconda3\\envs\\enviro\\lib\\site-packages (from httpx->gradio) (2.10)\n",
      "Requirement already satisfied: sniffio in c:\\programdata\\miniconda3\\envs\\enviro\\lib\\site-packages (from httpx->gradio) (1.3.0)\n",
      "Requirement already satisfied: contourpy>=1.0.1 in c:\\programdata\\miniconda3\\envs\\enviro\\lib\\site-packages (from matplotlib->gradio) (1.0.7)\n",
      "Requirement already satisfied: cycler>=0.10 in c:\\programdata\\miniconda3\\envs\\enviro\\lib\\site-packages (from matplotlib->gradio) (0.11.0)\n",
      "Requirement already satisfied: fonttools>=4.22.0 in c:\\programdata\\miniconda3\\envs\\enviro\\lib\\site-packages (from matplotlib->gradio) (4.39.0)\n",
      "Requirement already satisfied: kiwisolver>=1.0.1 in c:\\programdata\\miniconda3\\envs\\enviro\\lib\\site-packages (from matplotlib->gradio) (1.4.4)\n",
      "Requirement already satisfied: pyparsing>=2.3.1 in c:\\programdata\\miniconda3\\envs\\enviro\\lib\\site-packages (from matplotlib->gradio) (3.0.9)\n",
      "Requirement already satisfied: importlib-resources>=3.2.0 in c:\\programdata\\miniconda3\\envs\\enviro\\lib\\site-packages (from matplotlib->gradio) (5.12.0)\n",
      "Requirement already satisfied: urllib3<1.27,>=1.21.1 in c:\\programdata\\miniconda3\\envs\\enviro\\lib\\site-packages (from requests->gradio) (1.26.15)\n",
      "Requirement already satisfied: colorama in c:\\programdata\\miniconda3\\envs\\enviro\\lib\\site-packages (from click>=7.0->uvicorn>=0.14.0->gradio) (0.4.6)\n",
      "Requirement already satisfied: anyio<5.0,>=3.0 in c:\\programdata\\miniconda3\\envs\\enviro\\lib\\site-packages (from httpcore<0.18.0,>=0.15.0->httpx->gradio) (3.7.0)\n",
      "Requirement already satisfied: zipp>=3.1.0 in c:\\programdata\\miniconda3\\envs\\enviro\\lib\\site-packages (from importlib-resources>=3.2.0->matplotlib->gradio) (3.13.0)\n",
      "Requirement already satisfied: pkgutil-resolve-name>=1.3.10 in c:\\programdata\\miniconda3\\envs\\enviro\\lib\\site-packages (from jsonschema>=3.0->altair>=4.2.0->gradio) (1.3.10)\n",
      "Requirement already satisfied: pyrsistent!=0.17.0,!=0.17.1,!=0.17.2,>=0.14.0 in c:\\programdata\\miniconda3\\envs\\enviro\\lib\\site-packages (from jsonschema>=3.0->altair>=4.2.0->gradio) (0.19.3)\n",
      "Requirement already satisfied: uc-micro-py in c:\\programdata\\miniconda3\\envs\\enviro\\lib\\site-packages (from linkify-it-py<3,>=1->markdown-it-py[linkify]>=2.0.0->gradio) (1.0.2)\n",
      "Requirement already satisfied: six>=1.5 in c:\\programdata\\miniconda3\\envs\\enviro\\lib\\site-packages (from python-dateutil>=2.8.1->pandas->gradio) (1.16.0)\n",
      "Requirement already satisfied: exceptiongroup in c:\\programdata\\miniconda3\\envs\\enviro\\lib\\site-packages (from anyio<5.0,>=3.0->httpcore<0.18.0,>=0.15.0->httpx->gradio) (1.1.1)\n",
      "Requirement already satisfied: emoji in c:\\programdata\\miniconda3\\envs\\enviro\\lib\\site-packages (2.5.0)Note: you may need to restart the kernel to use updated packages.\n",
      "\n"
     ]
    }
   ],
   "source": [
    "%pip install gradio\n",
    "%pip install emoji"
   ]
  },
  {
   "cell_type": "code",
   "execution_count": 14,
   "id": "19ca7423-4564-46e2-aed1-a6e14d308462",
   "metadata": {},
   "outputs": [],
   "source": [
    "import gradio, random, emoji"
   ]
  },
  {
   "cell_type": "markdown",
   "id": "93b34b68",
   "metadata": {},
   "source": []
  },
  {
   "cell_type": "markdown",
   "id": "a4751ea9-df5a-4dfa-b192-004537711402",
   "metadata": {},
   "source": [
    "# Funciones de comportamiento"
   ]
  },
  {
   "cell_type": "code",
   "execution_count": 25,
   "id": "085ced73-6611-49c9-89c7-30cddb8878df",
   "metadata": {},
   "outputs": [],
   "source": [
    "conteo_intentos = 0\n",
    "\n",
    "def adivinar(guessing_try):\n",
    "  global conteo_intentos\n",
    "  random_number = random.randint(1, 6)\n",
    "  \n",
    "  if guessing_try == random_number:\n",
    "    conteo_intentos = 0\n",
    "    return emoji.emojize(\"Felicidades, has acertado el numero correctamente!\t:thumbs_up_medium-dark_skin_tone:\")\n",
    "\n",
    "  conteo_intentos += 1\n",
    "  \n",
    "  return emoji.emojize(\n",
    "    f\"\"\"\n",
    "    Has perdido, estás seguro de que sabes contar? \t:rolling_on_the_floor_laughing:\n",
    "    Intenta de nuevo! Llevas {conteo_intentos} intentos sin ganar, ya ponte las pilas.\n",
    "    \"\"\"\n",
    "  )"
   ]
  },
  {
   "cell_type": "markdown",
   "id": "67d50ad2-c9e5-4f9d-b6da-3e8da4881a97",
   "metadata": {},
   "source": [
    "# Echar andar la interfaz"
   ]
  },
  {
   "cell_type": "code",
   "execution_count": 26,
   "id": "2beebe74-ee55-4a61-8fbf-05f1f813a658",
   "metadata": {},
   "outputs": [
    {
     "name": "stdout",
     "output_type": "stream",
     "text": [
      "Running on local URL:  http://127.0.0.1:7868\n",
      "\n",
      "Could not create share link. Please check your internet connection or our status page: https://status.gradio.app. \n",
      "\n",
      "Also please ensure that your antivirus or firewall is not blocking the binary file located at: c:\\ProgramData\\miniconda3\\envs\\enviro\\lib\\site-packages\\gradio\\frpc_windows_amd64_v0.2\n"
     ]
    },
    {
     "data": {
      "text/html": [
       "<div><iframe src=\"http://127.0.0.1:7868/\" width=\"100%\" height=\"500\" allow=\"autoplay; camera; microphone; clipboard-read; clipboard-write;\" frameborder=\"0\" allowfullscreen></iframe></div>"
      ],
      "text/plain": [
       "<IPython.core.display.HTML object>"
      ]
     },
     "metadata": {},
     "output_type": "display_data"
    },
    {
     "data": {
      "text/plain": []
     },
     "execution_count": 26,
     "metadata": {},
     "output_type": "execute_result"
    }
   ],
   "source": [
    "gradio.Interface(adivinar, \"number\", \"text\").launch(share=True)"
   ]
  },
  {
   "cell_type": "code",
   "execution_count": null,
   "id": "46809102-877b-4ac0-85a4-56c81963e4b1",
   "metadata": {},
   "outputs": [],
   "source": []
  }
 ],
 "metadata": {
  "kernelspec": {
   "display_name": "enviro",
   "language": "python",
   "name": "python3"
  },
  "language_info": {
   "codemirror_mode": {
    "name": "ipython",
    "version": 3
   },
   "file_extension": ".py",
   "mimetype": "text/x-python",
   "name": "python",
   "nbconvert_exporter": "python",
   "pygments_lexer": "ipython3",
   "version": "3.8.5"
  },
  "vscode": {
   "interpreter": {
    "hash": "bf074c0375d0fc4da4bc3872a177eedf90513c788d290a83b23d76f71268c825"
   }
  }
 },
 "nbformat": 4,
 "nbformat_minor": 5
}
